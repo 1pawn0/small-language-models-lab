{
 "cells": [
  {
   "cell_type": "code",
   "id": "fd2bbcfe",
   "metadata": {
    "ExecuteTime": {
     "end_time": "2025-09-30T18:46:39.854717Z",
     "start_time": "2025-09-30T18:46:39.844667Z"
    }
   },
   "source": [
    "%load_ext dotenv\n",
    "%dotenv\n",
    "from dotenv import load_dotenv\n",
    "\n",
    "load_dotenv()"
   ],
   "outputs": [
    {
     "data": {
      "text/plain": [
       "True"
      ]
     },
     "execution_count": 1,
     "metadata": {},
     "output_type": "execute_result"
    }
   ],
   "execution_count": 1
  },
  {
   "cell_type": "code",
   "id": "c78c2139",
   "metadata": {
    "ExecuteTime": {
     "end_time": "2025-09-30T19:13:50.118793Z",
     "start_time": "2025-09-30T19:13:45.342047Z"
    }
   },
   "source": [
    "# @title download and save RoBERTa Model\n",
    "\n",
    "from transformers import RobertaTokenizer, RobertaModel, RobertaForMaskedLM\n",
    "\n",
    "RobertaTokenizer.from_pretrained(\"FacebookAI/roberta-large\").save_pretrained(\n",
    "    \"roberta-large-tokenizer\"\n",
    ")\n",
    "RobertaModel.from_pretrained(\"FacebookAI/roberta-large\").save_pretrained(\n",
    "    \"roberta-large-model\"\n",
    ")\n",
    "RobertaForMaskedLM.from_pretrained(\"FacebookAI/roberta-large\").save_pretrained(\n",
    "    \"roberta-large-mlm\"\n",
    ")\n"
   ],
   "outputs": [
    {
     "name": "stderr",
     "output_type": "stream",
     "text": [
      "Some weights of RobertaModel were not initialized from the model checkpoint at FacebookAI/roberta-large and are newly initialized: ['pooler.dense.bias', 'pooler.dense.weight']\n",
      "You should probably TRAIN this model on a down-stream task to be able to use it for predictions and inference.\n"
     ]
    }
   ],
   "execution_count": 34
  },
  {
   "cell_type": "code",
   "id": "843a153f",
   "metadata": {
    "ExecuteTime": {
     "end_time": "2025-09-30T19:18:17.442898Z",
     "start_time": "2025-09-30T19:18:17.150982Z"
    }
   },
   "source": [
    "# @title load RoBERTa Model\n",
    "\n",
    "tokenizer = RobertaTokenizer.from_pretrained(\"roberta-large-tokenizer\")\n",
    "model = RobertaForMaskedLM.from_pretrained(\"roberta-large-mlm\")\n"
   ],
   "outputs": [],
   "execution_count": 35
  },
  {
   "metadata": {
    "ExecuteTime": {
     "end_time": "2025-09-30T19:21:34.398539Z",
     "start_time": "2025-09-30T19:21:34.143593Z"
    }
   },
   "cell_type": "code",
   "source": [
    "import torch\n",
    "\n",
    "text = \"Replace me by any text you'd <mask>\"\n",
    "encoded_input = tokenizer(text, return_tensors='pt')\n",
    "\n",
    "outputs = model(**encoded_input)\n",
    "predictions = outputs.logits\n",
    "\n",
    "masked_index = torch.where(encoded_input['input_ids'] == tokenizer.mask_token_id)[1]\n",
    "predicted_token_id = predictions[0, masked_index].argmax(dim=-1)\n",
    "predicted_token = tokenizer.decode(predicted_token_id)\n",
    "\n",
    "print(f\"The predicted token is: {predicted_token}\")"
   ],
   "id": "132f49c2a6c85aec",
   "outputs": [
    {
     "name": "stdout",
     "output_type": "stream",
     "text": [
      "The predicted token is:  like\n"
     ]
    }
   ],
   "execution_count": 43
  },
  {
   "metadata": {
    "ExecuteTime": {
     "end_time": "2025-09-30T19:34:09.808200Z",
     "start_time": "2025-09-30T19:34:09.802339Z"
    }
   },
   "cell_type": "code",
   "source": [
    "texts = [\"Short text\", \"This is a much longer text\"]\n",
    "inputs = tokenizer(texts, padding=True, return_tensors='pt')\n",
    "print(tokenizer.decode(inputs.input_ids[0]), inputs.attention_mask[0])\n",
    "print(tokenizer.decode(inputs.input_ids[1]), inputs.attention_mask[1])"
   ],
   "id": "58d0339b4d7fd997",
   "outputs": [
    {
     "name": "stdout",
     "output_type": "stream",
     "text": [
      "<s>Short text</s><pad><pad><pad><pad> tensor([1, 1, 1, 1, 0, 0, 0, 0])\n",
      "<s>This is a much longer text</s> tensor([1, 1, 1, 1, 1, 1, 1, 1])\n"
     ]
    }
   ],
   "execution_count": 81
  }
 ],
 "metadata": {
  "kernelspec": {
   "display_name": "py3.13-env0",
   "language": "python",
   "name": "python3"
  },
  "language_info": {
   "codemirror_mode": {
    "name": "ipython",
    "version": 3
   },
   "file_extension": ".py",
   "mimetype": "text/x-python",
   "name": "python",
   "nbconvert_exporter": "python",
   "pygments_lexer": "ipython3",
   "version": "3.13.5"
  }
 },
 "nbformat": 4,
 "nbformat_minor": 5
}
