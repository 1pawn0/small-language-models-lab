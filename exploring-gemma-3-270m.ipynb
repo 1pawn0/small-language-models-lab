{
 "cells": [
  {
   "metadata": {},
   "cell_type": "code",
   "outputs": [],
   "execution_count": null,
   "source": [
    "%load_ext dotenv\n",
    "%dotenv\n",
    "from dotenv import load_dotenv\n",
    "\n",
    "load_dotenv()"
   ],
   "id": "253036b1077ff325"
  },
  {
   "metadata": {},
   "cell_type": "code",
   "outputs": [],
   "execution_count": null,
   "source": [
    "import torch, transformers\n",
    "from transformers import AutoTokenizer, AutoModelForCausalLM\n",
    "\n",
    "AutoTokenizer.from_pretrained(\"google/gemma-3-270m\").save_pretrained('gemma-3-270m-tokenizer')\n",
    "AutoModelForCausalLM.from_pretrained(\"google/gemma-3-270m\").save_pretrained('gemma-3-270m-model')\n",
    "AutoTokenizer.from_pretrained(\"google/gemma-3-270m-it\").save_pretrained('gemma-3-270m-it-tokenizer')\n",
    "AutoModelForCausalLM.from_pretrained(\"google/gemma-3-270m-it\").save_pretrained('gemma-3-270m-it-model')\n",
    "\n"
   ],
   "id": "604195a9350ea105"
  },
  {
   "metadata": {},
   "cell_type": "code",
   "outputs": [],
   "execution_count": null,
   "source": [
    "from transformers import AutoTokenizer, AutoModelForCausalLM\n",
    "import torch\n",
    "\n",
    "# Load the instruction-tuned version\n",
    "tokenizer_it = AutoTokenizer.from_pretrained(\"./gemma-3-270m-it-tokenizer\")\n",
    "model_it = AutoModelForCausalLM.from_pretrained(\"./gemma-3-270m-it-model\")\n",
    "\n",
    "# Load the base version\n",
    "tokenizer_base = AutoTokenizer.from_pretrained(\"./gemma-3-270m-tokenizer\")\n",
    "model_base = AutoModelForCausalLM.from_pretrained(\"./gemma-3-270m-model\")"
   ],
   "id": "2e5cdcc5f1855575"
  },
  {
   "metadata": {},
   "cell_type": "code",
   "outputs": [],
   "execution_count": null,
   "source": "",
   "id": "f4c99b4d6dbb749f"
  }
 ],
 "metadata": {
  "kernelspec": {
   "display_name": "Python 3",
   "language": "python",
   "name": "python3"
  },
  "language_info": {
   "codemirror_mode": {
    "name": "ipython",
    "version": 2
   },
   "file_extension": ".py",
   "mimetype": "text/x-python",
   "name": "python",
   "nbconvert_exporter": "python",
   "pygments_lexer": "ipython2",
   "version": "2.7.6"
  }
 },
 "nbformat": 4,
 "nbformat_minor": 5
}
