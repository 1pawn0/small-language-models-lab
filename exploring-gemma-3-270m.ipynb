{
 "cells": [
  {
   "cell_type": "code",
   "execution_count": 1,
   "id": "253036b1077ff325",
   "metadata": {
    "ExecuteTime": {
     "end_time": "2025-09-30T19:39:50.483806Z",
     "start_time": "2025-09-30T19:39:45.454425Z"
    }
   },
   "outputs": [
    {
     "data": {
      "text/plain": [
       "True"
      ]
     },
     "execution_count": 1,
     "metadata": {},
     "output_type": "execute_result"
    }
   ],
   "source": [
    "import transformers, torch\n",
    "import polars as pl\n",
    "from torch.utils.data import Dataset, DataLoader\n",
    "from datasets import load_dataset, load_from_disk\n",
    "from dotenv import load_dotenv\n",
    "\n",
    "%load_ext dotenv\n",
    "%dotenv\n",
    "\n",
    "load_dotenv()"
   ]
  },
  {
   "cell_type": "code",
   "execution_count": 2,
   "id": "e755098dfae90167",
   "metadata": {
    "ExecuteTime": {
     "end_time": "2025-09-30T19:40:00.697519Z",
     "start_time": "2025-09-30T19:39:54.714604Z"
    }
   },
   "outputs": [
    {
     "data": {
      "application/vnd.jupyter.widget-view+json": {
       "model_id": "d68349c85c9b4313ad8df25cb88e8079",
       "version_major": 2,
       "version_minor": 0
      },
      "text/plain": [
       "Saving the dataset (0/1 shards):   0%|          | 0/25000 [00:00<?, ? examples/s]"
      ]
     },
     "jetTransient": {
      "display_id": null
     },
     "metadata": {},
     "output_type": "display_data"
    },
    {
     "data": {
      "application/vnd.jupyter.widget-view+json": {
       "model_id": "a56823b8998d4ff5b560284e2d7cf5b1",
       "version_major": 2,
       "version_minor": 0
      },
      "text/plain": [
       "Saving the dataset (0/1 shards):   0%|          | 0/25000 [00:00<?, ? examples/s]"
      ]
     },
     "jetTransient": {
      "display_id": null
     },
     "metadata": {},
     "output_type": "display_data"
    },
    {
     "data": {
      "application/vnd.jupyter.widget-view+json": {
       "model_id": "ed0cd89cca3a492daf331ee5cdb974dd",
       "version_major": 2,
       "version_minor": 0
      },
      "text/plain": [
       "Saving the dataset (0/1 shards):   0%|          | 0/50000 [00:00<?, ? examples/s]"
      ]
     },
     "jetTransient": {
      "display_id": null
     },
     "metadata": {},
     "output_type": "display_data"
    }
   ],
   "source": [
    "load_dataset(\"stanfordnlp/imdb\").save_to_disk(\"data/imdb\")\n",
    "ds = load_from_disk(\"data/imdb\")\n",
    "train_df = ds[\"train\"].to_polars()\n",
    "test_df = ds[\"test\"].to_polars()\n",
    "unsupervised_df = ds[\"unsupervised\"].to_polars()"
   ]
  },
  {
   "cell_type": "code",
   "execution_count": 6,
   "id": "237d194755bf3dff",
   "metadata": {
    "ExecuteTime": {
     "end_time": "2025-09-30T19:43:23.955847Z",
     "start_time": "2025-09-30T19:43:23.951884Z"
    }
   },
   "outputs": [],
   "source": [
    "train_df = train_df.with_columns([pl.col(\"label\").cast(pl.Boolean)])\n",
    "test_df = test_df.with_columns([pl.col(\"label\").cast(pl.Boolean)])\n",
    "unsupervised_df = unsupervised_df.with_columns([pl.col(\"label\").cast(pl.Boolean)])"
   ]
  },
  {
   "cell_type": "code",
   "execution_count": 7,
   "id": "fffca01b79a85b2a",
   "metadata": {
    "ExecuteTime": {
     "end_time": "2025-09-30T19:44:11.621037Z",
     "start_time": "2025-09-30T19:44:11.617555Z"
    }
   },
   "outputs": [],
   "source": [
    "train_dataloader = DataLoader(dataset=train_df)\n",
    "test_dataloader = DataLoader(dataset=test_df)"
   ]
  },
  {
   "cell_type": "code",
   "execution_count": 9,
   "id": "d5c65bd5d7780a2b",
   "metadata": {
    "ExecuteTime": {
     "end_time": "2025-09-30T19:46:26.620595Z",
     "start_time": "2025-09-30T19:46:19.761378Z"
    }
   },
   "outputs": [],
   "source": [
    "from transformers import AutoModelForCausalLM, AutoTokenizer\n",
    "\n",
    "tokenizer_base = AutoTokenizer.from_pretrained(\"./gemma-3-1b-pt-tokenizer\")\n",
    "model_base = AutoModelForCausalLM.from_pretrained(\"./gemma-3-1b-pt-model\")"
   ]
  },
  {
   "cell_type": "code",
   "execution_count": 12,
   "id": "f4c99b4d6dbb749f",
   "metadata": {
    "ExecuteTime": {
     "end_time": "2025-09-30T19:48:10.052875Z",
     "start_time": "2025-09-30T19:47:59.936790Z"
    }
   },
   "outputs": [
    {
     "name": "stdout",
     "output_type": "stream",
     "text": [
      "\n",
      "Happiness is a butterfly\n",
      "Try to catch it, like, every night\n",
      "It escapes from my hands into moonlight\n",
      "And I'm not sure if I'll ever get it back\n",
      "But I'll keep trying\n",
      "I'll keep trying\n",
      "I'll keep trying\n",
      "I'll keep trying\n",
      "I'll keep trying\n",
      "I\n"
     ]
    }
   ],
   "source": [
    "generation_config = transformers.GenerationConfig(\n",
    "    max_new_tokens=100,\n",
    "    max_time=10,\n",
    "    do_sample=False,\n",
    "    temperature=0.0,\n",
    ")\n",
    "prompt = \"\"\"\n",
    "Happiness is a butterfly\n",
    "Try to catch it, like, every night\n",
    "It escapes from my hands into moonlight\n",
    "\"\"\"\n",
    "input_ids = tokenizer_base.encode(prompt, return_tensors=\"pt\", truncation=True)\n",
    "outputs = model_base.generate(\n",
    "    inputs=input_ids,\n",
    "    generation_config=generation_config,\n",
    "    output_scores=True,\n",
    "    return_dict_in_generate=True,\n",
    "    tokenizer=tokenizer_base,\n",
    ")\n",
    "\n",
    "print(tokenizer_base.decode(outputs.sequences[0], skip_special_tokens=True))"
   ]
  }
 ],
 "metadata": {
  "kernelspec": {
   "display_name": "Python 3",
   "language": "python",
   "name": "python3"
  },
  "language_info": {
   "codemirror_mode": {
    "name": "ipython",
    "version": 2
   },
   "file_extension": ".py",
   "mimetype": "text/x-python",
   "name": "python",
   "nbconvert_exporter": "python",
   "pygments_lexer": "ipython2",
   "version": "2.7.6"
  }
 },
 "nbformat": 4,
 "nbformat_minor": 5
}
