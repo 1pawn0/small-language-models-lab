{
 "cells": [
  {
   "cell_type": "code",
   "id": "initial_id",
   "metadata": {
    "collapsed": true,
    "ExecuteTime": {
     "end_time": "2025-09-28T09:04:04.191140Z",
     "start_time": "2025-09-28T09:04:04.182345Z"
    }
   },
   "source": [
    "%load_ext dotenv\n",
    "%dotenv\n",
    "from dotenv import load_dotenv\n",
    "\n",
    "load_dotenv()"
   ],
   "outputs": [
    {
     "data": {
      "text/plain": [
       "True"
      ]
     },
     "execution_count": 1,
     "metadata": {},
     "output_type": "execute_result"
    }
   ],
   "execution_count": 1
  },
  {
   "metadata": {
    "ExecuteTime": {
     "end_time": "2025-09-28T07:55:11.664763Z",
     "start_time": "2025-09-28T07:55:00.968711Z"
    }
   },
   "cell_type": "code",
   "source": [
    "import torch, transformers\n",
    "from transformers import AutoTokenizer, AutoModelForCausalLM\n",
    "\n",
    "AutoTokenizer.from_pretrained(\"google/gemma-3-270m\").save_pretrained('gemma-3-270m-tokenizer')\n",
    "AutoModelForCausalLM.from_pretrained(\"google/gemma-3-270m\").save_pretrained('gemma-3-270m-model')\n",
    "AutoTokenizer.from_pretrained(\"google/gemma-3-270m-it\").save_pretrained('gemma-3-270m-it-tokenizer')\n",
    "AutoModelForCausalLM.from_pretrained(\"google/gemma-3-270m-it\").save_pretrained('gemma-3-270m-it-model')\n",
    "\n"
   ],
   "id": "4ad0f98b7a782446",
   "outputs": [],
   "execution_count": 3
  },
  {
   "metadata": {
    "ExecuteTime": {
     "end_time": "2025-09-28T09:04:05.710444Z",
     "start_time": "2025-09-28T09:04:04.248079Z"
    }
   },
   "cell_type": "code",
   "source": [
    "!git lfs install\n",
    "!git lfs track \"gemma-3-270m-model/**\"\n",
    "!git lfs track \"gemma-3-270m-tokenizer/**\"\n",
    "!git lfs track \"gemma-3-270m-it-model/**\"\n",
    "!git lfs track \"gemma-3-270m-it-tokenizer/**\"\n"
   ],
   "id": "4093441bf1c6cfe7",
   "outputs": [
    {
     "name": "stdout",
     "output_type": "stream",
     "text": [
      "Updated Git hooks.\r\n",
      "Git LFS initialized.\r\n",
      "\"gemma-3-270m-model/**\" already supported\r\n",
      "\"gemma-3-270m-tokenizer/**\" already supported\r\n",
      "\"gemma-3-270m-it-model/**\" already supported\r\n",
      "\"gemma-3-270m-it-tokenizer/**\" already supported\r\n"
     ]
    }
   ],
   "execution_count": 2
  },
  {
   "metadata": {},
   "cell_type": "code",
   "outputs": [],
   "execution_count": null,
   "source": "",
   "id": "3205733d19fa1adb"
  }
 ],
 "metadata": {
  "kernelspec": {
   "display_name": "Python 3",
   "language": "python",
   "name": "python3"
  },
  "language_info": {
   "codemirror_mode": {
    "name": "ipython",
    "version": 2
   },
   "file_extension": ".py",
   "mimetype": "text/x-python",
   "name": "python",
   "nbconvert_exporter": "python",
   "pygments_lexer": "ipython2",
   "version": "2.7.6"
  }
 },
 "nbformat": 4,
 "nbformat_minor": 5
}
