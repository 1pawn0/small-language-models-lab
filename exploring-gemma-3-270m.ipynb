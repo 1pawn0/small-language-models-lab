{
 "cells": [
  {
   "cell_type": "code",
   "id": "initial_id",
   "metadata": {
    "collapsed": true
   },
   "source": [
    "%load_ext dotenv\n",
    "%dotenv\n",
    "from dotenv import load_dotenv\n",
    "\n",
    "load_dotenv()"
   ],
   "outputs": [],
   "execution_count": null
  },
  {
   "metadata": {
    "ExecuteTime": {
     "end_time": "2025-09-28T09:48:34.068586Z",
     "start_time": "2025-09-28T09:48:25.366753Z"
    }
   },
   "cell_type": "code",
   "source": [
    "import torch, transformers\n",
    "from transformers import AutoTokenizer, AutoModelForCausalLM\n",
    "\n",
    "AutoTokenizer.from_pretrained(\"google/gemma-3-270m\").save_pretrained('gemma-3-270m-tokenizer')\n",
    "AutoModelForCausalLM.from_pretrained(\"google/gemma-3-270m\").save_pretrained('gemma-3-270m-model')\n",
    "AutoTokenizer.from_pretrained(\"google/gemma-3-270m-it\").save_pretrained('gemma-3-270m-it-tokenizer')\n",
    "AutoModelForCausalLM.from_pretrained(\"google/gemma-3-270m-it\").save_pretrained('gemma-3-270m-it-model')\n",
    "\n"
   ],
   "id": "d2124b1ec6ffd60",
   "outputs": [],
   "execution_count": 13
  },
  {
   "metadata": {},
   "cell_type": "code",
   "outputs": [],
   "execution_count": null,
   "source": "",
   "id": "1bbfb046efab1667"
  }
 ],
 "metadata": {
  "kernelspec": {
   "display_name": "Python 3",
   "language": "python",
   "name": "python3"
  },
  "language_info": {
   "codemirror_mode": {
    "name": "ipython",
    "version": 2
   },
   "file_extension": ".py",
   "mimetype": "text/x-python",
   "name": "python",
   "nbconvert_exporter": "python",
   "pygments_lexer": "ipython2",
   "version": "2.7.6"
  }
 },
 "nbformat": 4,
 "nbformat_minor": 5
}
